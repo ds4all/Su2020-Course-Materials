{
 "cells": [
  {
   "cell_type": "markdown",
   "metadata": {},
   "source": [
    "<a href=\"http://ds4all.aucenter.edu\"><img src=\"../images/ds4all_logo.png\" width=\"120\" align=\"right\"></a>\n",
    "\n",
    "\n",
    "Python Math Expressions\n",
    "===============\n",
    "\n",
    "For each problem below, evaluate the given math expression by writing and executing an equivalent Python expression in the cell provided.  In each case, verify your solution by comparing with the provided expected  value.\n",
    "\n",
    "---"
   ]
  },
  {
   "cell_type": "markdown",
   "metadata": {},
   "source": [
    "### Problem 1\n",
    "\n",
    "Evaluate the math expression below using Python\n",
    "\n",
    "## $1+\\frac{5}{3}$\n",
    "<div style=\"text-align: right; font-size:8pt;\">Expected Answer: 2.66666...</div>"
   ]
  },
  {
   "cell_type": "code",
   "execution_count": 3,
   "metadata": {},
   "outputs": [
    {
     "data": {
      "text/plain": [
       "2.666666666666667"
      ]
     },
     "execution_count": 3,
     "metadata": {},
     "output_type": "execute_result"
    }
   ],
   "source": [
    "1 + (5/3)"
   ]
  },
  {
   "cell_type": "markdown",
   "metadata": {},
   "source": [
    "### Problem 2\n",
    "\n",
    "Evaluate the math expression below using Python\n",
    "\n",
    "## $\\frac{(7-2)^3}{4}$\n",
    "<div style=\"text-align: right; font-size:8pt;\">Expected Answer: 31.25</div>"
   ]
  },
  {
   "cell_type": "code",
   "execution_count": 5,
   "metadata": {},
   "outputs": [
    {
     "data": {
      "text/plain": [
       "31.25"
      ]
     },
     "execution_count": 5,
     "metadata": {},
     "output_type": "execute_result"
    }
   ],
   "source": [
    "((7-2)**3)/4"
   ]
  },
  {
   "cell_type": "markdown",
   "metadata": {},
   "source": [
    "### Problem 3\n",
    "\n",
    "Evaluate the math expression below using Python\n",
    "\n",
    "## $5+2/2$\n",
    "<div style=\"text-align: right; font-size:8pt;\">Expected Answer: 6</div>"
   ]
  },
  {
   "cell_type": "code",
   "execution_count": 12,
   "metadata": {},
   "outputs": [
    {
     "data": {
      "text/plain": [
       "6.0"
      ]
     },
     "execution_count": 12,
     "metadata": {},
     "output_type": "execute_result"
    }
   ],
   "source": [
    "5  + 2/2"
   ]
  },
  {
   "cell_type": "markdown",
   "metadata": {},
   "source": [
    "### Problem 4\n",
    "\n",
    "Evaluate the math expression below using Python\n",
    "\n",
    "## $[\\frac{1}{7.3-2.1}]^{0.8}$\n",
    "<div style=\"text-align: right; font-size:8pt;\">Expected Answer: 0.26742...</div>"
   ]
  },
  {
   "cell_type": "code",
   "execution_count": 13,
   "metadata": {},
   "outputs": [
    {
     "data": {
      "text/plain": [
       "0.2674221185967341"
      ]
     },
     "execution_count": 13,
     "metadata": {},
     "output_type": "execute_result"
    }
   ],
   "source": [
    "(1 / (7.3-2.1))**0.8"
   ]
  },
  {
   "cell_type": "markdown",
   "metadata": {},
   "source": [
    "### Problem 5\n",
    "\n",
    "Evaluate the math expression below using Python\n",
    "\n",
    "## $9.2*\\frac{4.77^3}{2.71^{2.1+1.8}}$\n",
    "<div style=\"text-align: right; font-size:8pt;\">Expected Answer: 20.4532...</div>"
   ]
  },
  {
   "cell_type": "code",
   "execution_count": 14,
   "metadata": {},
   "outputs": [
    {
     "data": {
      "text/plain": [
       "20.45326899312974"
      ]
     },
     "execution_count": 14,
     "metadata": {},
     "output_type": "execute_result"
    }
   ],
   "source": [
    "(4.77**3)/(2.71**(2.1+1.8))*9.2"
   ]
  },
  {
   "cell_type": "code",
   "execution_count": null,
   "metadata": {},
   "outputs": [],
   "source": []
  }
 ],
 "metadata": {
  "kernelspec": {
   "display_name": "Python 3",
   "language": "python",
   "name": "python3"
  },
  "language_info": {
   "codemirror_mode": {
    "name": "ipython",
    "version": 3
   },
   "file_extension": ".py",
   "mimetype": "text/x-python",
   "name": "python",
   "nbconvert_exporter": "python",
   "pygments_lexer": "ipython3",
   "version": "3.6.8"
  },
  "widgets": {
   "application/vnd.jupyter.widget-state+json": {
    "state": {},
    "version_major": 2,
    "version_minor": 0
   }
  }
 },
 "nbformat": 4,
 "nbformat_minor": 4
}
